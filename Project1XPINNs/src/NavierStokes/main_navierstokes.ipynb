{
 "cells": [
  {
   "cell_type": "code",
   "execution_count": 2,
   "metadata": {},
   "outputs": [],
   "source": [
    "from pathlib import Path\n",
    "from xpinn import XPINN\n",
    "import optax\n",
    "from type_util import Array\n",
    "from jax import hessian, jacobian, jit, vmap, grad\n",
    "import jax.numpy as np\n",
    "import numpy as onp\n",
    "\n",
    "from jax import config\n",
    "\n",
    "config.update(\"jax_enable_x64\", True)"
   ]
  },
  {
   "cell_type": "code",
   "execution_count": 3,
   "metadata": {},
   "outputs": [],
   "source": [
    "from utils import data_path\n",
    "\n",
    "file = data_path / \"navier_stokes_pinn_train_w_temporal.json\"\n",
    "#file_test = data_path / \"poisson_test.json\"\n",
    "activation = np.tanh\n",
    "xpinn = XPINN(file, activation)"
   ]
  },
  {
   "cell_type": "code",
   "execution_count": 4,
   "metadata": {},
   "outputs": [],
   "source": [
    "from typing import Callable\n",
    "from type_util import Params\n",
    "from base_network import neural_network\n",
    "\n",
    "LFunc = Callable[[Params, dict[str, Array]], Array]\n",
    "\n",
    "model = neural_network(activation)\n",
    "v_model = vmap(model, (None, 0))\n"
   ]
  },
  {
   "cell_type": "markdown",
   "metadata": {},
   "source": [
    "We require a lot of different expresions for calculating the rather ugly differential conditions imposed by the navier stokes. Below is a setch for how they may be calculated.\n"
   ]
  },
  {
   "cell_type": "code",
   "execution_count": 6,
   "metadata": {},
   "outputs": [],
   "source": [
    "def psi_func(params, xyt):\n",
    "    return v_model(params, xyt)[0]\n",
    "\n",
    "hess_psi = hessian(psi_func, argnums=1)\n",
    "d_psi_dxyt = grad(psi_func, argnums=1)\n",
    "\n",
    "u_x = lambda params, xyt: hess_psi(params, xyt)[0,1] #psi_yx\n",
    "u_y = lambda params, xyt: hess_psi(params, xyt)[2,2] #psi_yy\n",
    "u_xx = lambda params, xyt: grad(u_x, argnums=1)(params, xyt)[0] #psi_yxx\n",
    "u_t = lambda params, xyt: hess_psi(params, xyt)[1,3] #psi_ty\n",
    "u_yy = lambda params, xyt: grad(u_y, argnums=1)(params, xyt)[1] #psi_yyy\n",
    "\n",
    "v_y = lambda params, xyt: -hess_psi(params, xyt)[0,1] #-psi_yx\n",
    "v_x = lambda params, xyt: -hess_psi(params, xyt)[0,0] #-psi_xx\n",
    "v_t = lambda params, xyt: -hess_psi(params, xyt)[1,3] #-psi_ty\n",
    "v_xx = lambda params, xyt: grad(v_x, argnums=1)(params, xyt)[0] #-psi_xxx\n",
    "v_yy = lambda params, xyt: grad(v_y, argnums=1)(params, xyt)[1] #-psi_yyy\n",
    "\n",
    "\n",
    "u = lambda params, xyt: d_psi_dxyt(params, xyt)[1]\n",
    "v = lambda params, xyt: -d_psi_dxyt(params, xyt)[0]"
   ]
  },
  {
   "cell_type": "markdown",
   "metadata": {},
   "source": [
    "And here are the functions relating to the preassure p"
   ]
  },
  {
   "cell_type": "code",
   "execution_count": 7,
   "metadata": {},
   "outputs": [],
   "source": [
    "p = lambda params, xyt: v_model(params, xyt)[1]\n",
    "\n",
    "p_x = lambda params, xyt: grad(p, argnums=1)(params, xyt)[0]\n",
    "p_y = lambda params, xyt: grad(p, argnums=1)(params, xyt)[1]\n",
    "p_t = lambda params, xyt: grad(p, argnums=1)(params, xyt)[2]"
   ]
  },
  {
   "cell_type": "markdown",
   "metadata": {},
   "source": [
    "Two different residuals ?  The first is the one from PINNS(II) paper given by \n",
    "\n",
    "f = $u_t$ + $u \\cdot u_x$ + $v \\cdot u_y$ + $p_x \\nu (u_{xx} + u_{yy})$\n",
    "g = $v_t$ + $u \\cdot v_x$ + $v \\cdot v_y$ + $p_y \\nu (v_{xx} + v_{yy})$\n",
    "\n",
    "both of these should be miminized"
   ]
  },
  {
   "cell_type": "markdown",
   "metadata": {},
   "source": [
    "Dortmunt PDE tutorial loss (@junmiaoHu verify please idk)\n",
    "\n",
    "$$\n",
    "\\frac{\\partial \\mathbf{u}}{\\partial t} - \\nu \\Delta \\mathbf{u} + (\\mathbf{u} \\cdot \\nabla) \\mathbf{u} + \\nabla p = 0\n",
    "$$\n",
    "Here $\\mathbf{u}$ is a vector containing both the x and y component of the flow. So using the above functions the expression would be\n",
    "\n",
    "$$\n",
    "(u_t + v_t) - \\nu \\cdot (u_{xx} + u_{yy} + v_{xx} + v_{yy}) + u \\cdot (u_x + v_y) + v \\cdot (u_y + v_y) =  0\n",
    "$$\n",
    "So the residuals are the same!\n"
   ]
  },
  {
   "cell_type": "code",
   "execution_count": 8,
   "metadata": {},
   "outputs": [],
   "source": [
    "def create_Navier_stokes_residual(nu):\n",
    "    def navier_stokes_residual(params, xyt): \n",
    "        return (u_t(params, xyt) + u(params, xyt) * u_x(params, xyt) + v(params, xyt) * \n",
    "                u_y(params, xyt) + p_x(params, xyt) - nu * (u_xx(params, xyt) + u_yy(params, xyt)))\n",
    "    return navier_stokes_residual"
   ]
  },
  {
   "cell_type": "code",
   "execution_count": null,
   "metadata": {},
   "outputs": [],
   "source": []
  },
  {
   "cell_type": "markdown",
   "metadata": {},
   "source": [
    "Below is a shitty atempt of converting tensorflow code from PINNS(II) paper. Unusable trash"
   ]
  },
  {
   "cell_type": "code",
   "execution_count": null,
   "metadata": {},
   "outputs": [],
   "source": [
    "def navier_stokes_functional(model, nu):\n",
    "    \"\"\"\n",
    "    model: The neural network model that takes (x, y, t) inputs.\n",
    "    nu: The kinematic viscosity.\n",
    "    \n",
    "    returns relevant values for loss and simulation.\n",
    "    \"\"\"\n",
    "    # Define functions for u and v derivatives\n",
    "    def psi_component(model, params, xyt):\n",
    "        psi = model(params, xyt)[:, 0]  # Assuming first component is psi\n",
    "        return psi\n",
    "    \n",
    "    # Compute u and v from the stream function psi\n",
    "    d_psi = grad(psi_component, argnums=(2,))\n",
    "    \n",
    "    def u(model, params, xyt):\n",
    "        return -d_psi(model, params, xyt)[1]\n",
    "    \n",
    "    def v(model, params, xyt):\n",
    "        return d_psi(model, params, xyt)[0]\n",
    "    \n",
    "    # Create functions for pressure gradient components\n",
    "    def p_component(model, params, xyt):\n",
    "        p = model(params, xyt)[:, 1]  # Assuming second component is pressure\n",
    "        return p\n",
    "    \n",
    "    d_p = grad(p_component, argnums=(2,))\n",
    "    \n",
    "    # Higher order derivatives for u and v\n",
    "    def u_t(model, params, xyt):\n",
    "        return grad(u, argnums=(2,))(model, params, xyt)\n",
    "    \n",
    "    def u_x(model, params, xyt):\n",
    "        return grad(u, argnums=(2,))(model, params, xyt)[0]\n",
    "    \n",
    "    def u_y(model, params, xyt):\n",
    "        return grad(u, argnums=(2,))(model, params, xyt)[1]\n",
    "    \n",
    "    def u_xx(model, params, xyt):\n",
    "        return grad(u_x, argnums=(2,))(model, params, xyt)[0]\n",
    "\n",
    "    def u_yy(model, params, xyt):\n",
    "        return grad(u_y, argnums=(2,))(model, params, xyt)[1]\n",
    "\n",
    "    def v_t(model, params, xyt):\n",
    "        return grad(v, argnums=(2,))(model, params, xyt)\n",
    "    \n",
    "    def v_x(model, params, xyt):\n",
    "        return grad(v, argnums=(2,))(model, params, xyt)[0]\n",
    "\n",
    "    def v_y(model, params, xyt):\n",
    "        return grad(v, argnums=(2,))(model, params, xyt)[1]\n",
    "    \n",
    "    def v_xx(model, params, xyt):\n",
    "        return grad(v_x, argnums=(2,))(model, params, xyt)[0]\n",
    "    \n",
    "    def v_yy(model, params, xyt):\n",
    "        return grad(v_y, argnums=(2,))(model, params, xyt)[1]\n",
    "\n",
    "    # Assemble the Navier-Stokes functional\n",
    "    def function(params, xyt):\n",
    "        # Calculate velocity components using the stream function\n",
    "        u_vel = u(model, params, xyt)\n",
    "        v_vel = v(model, params, xyt)\n",
    "\n",
    "        # Calculate pressure gradient components\n",
    "        p_x = d_p(model, params, xyt)[0]\n",
    "        p_y = d_p(model, params, xyt)[1]\n",
    "\n",
    "        # Calculate time and space derivatives of velocity components\n",
    "        u_t_val = u_t(model, params, xyt)\n",
    "        u_x_val = u_x(model, params, xyt)\n",
    "        u_y_val = u_y(model, params, xyt)\n",
    "        u_xx_val = u_xx(model, params, xyt)\n",
    "        u_yy_val = u_yy(model, params, xyt)\n",
    "        \n",
    "        v_t_val = v_t(model, params, xyt)\n",
    "        v_x_val = v_x(model, params, xyt)\n",
    "        v_y_val = v_y(model, params, xyt)\n",
    "        v_xx_val = v_xx(model, params, xyt)\n",
    "        v_yy_val = v_yy(model, params, xyt)\n",
    "\n",
    "        # Compute the residuum of the Navier-Stokes equations\n",
    "        f = u_t_val + u_vel * u_x_val + v_vel * u_y_val + p_x - nu * (u_xx_val + u_yy_val)\n",
    "        g = v_t_val + u_vel * v_x_val + v_vel * v_y_val + p_y - nu * (v_xx_val + v_yy_val)\n",
    "\n",
    "        return u_vel, v_vel, p_x, p_y, f, g\n",
    "\n",
    "    return jit(function)\n"
   ]
  }
 ],
 "metadata": {
  "kernelspec": {
   "display_name": "FYS5429",
   "language": "python",
   "name": "python3"
  },
  "language_info": {
   "codemirror_mode": {
    "name": "ipython",
    "version": 3
   },
   "file_extension": ".py",
   "mimetype": "text/x-python",
   "name": "python",
   "nbconvert_exporter": "python",
   "pygments_lexer": "ipython3",
   "version": "3.11.8"
  }
 },
 "nbformat": 4,
 "nbformat_minor": 2
}
