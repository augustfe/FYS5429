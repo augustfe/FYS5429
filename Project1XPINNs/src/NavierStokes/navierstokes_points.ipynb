{
 "cells": [
  {
   "cell_type": "code",
   "execution_count": 1,
   "metadata": {
    "editable": true,
    "slideshow": {
     "slide_type": ""
    },
    "tags": []
   },
   "outputs": [],
   "source": [
    "from region_utils.shapes import Circle, ConvexPolygon\n",
    "from region_utils.region import Domain, Subdomain\n",
    "import jax.numpy as np\n",
    "import numpy as onp\n",
    "import json"
   ]
  },
  {
   "cell_type": "markdown",
   "metadata": {},
   "source": [
    "\n",
    "#### Domain with matching dimensionality of problem in [DFG flow around cylinder benchmark 2D-1](https://wwwold.mathematik.tu-dortmund.de/~featflow/en/benchmarks/cfdbenchmarking/flow/dfg_benchmark1_re20.html) \n",
    "\n",
    "$$\\omega =[0,2.2]×[0,0.41]∖B_r(0.2,0.2)$$\n",
    "$$r = 0.05$$\n",
    "Without subdomain decomposition (@JunmiaoHu)"
   ]
  },
  {
   "cell_type": "code",
   "execution_count": 2,
   "metadata": {},
   "outputs": [],
   "source": [
    "#vertecies of domain in counter clockwise order\n",
    "v1 = [0,0]\n",
    "v2 = [2.2,0]\n",
    "v3 = [2.2, 0.41]\n",
    "v4 = [0, 0.41]\n",
    "\n",
    "domain_points = np.asarray([v1, v2, v3, v4])\n",
    "Cylinder = Circle(center=np.array([0.2, 0.2]), radius=0.05, has_boundary=True)\n",
    "OuterRectangle = ConvexPolygon(domain_points, list(range(4)))"
   ]
  },
  {
   "cell_type": "code",
   "execution_count": 3,
   "metadata": {},
   "outputs": [],
   "source": [
    "subdomain0 = Subdomain([OuterRectangle], [Cylinder])\n",
    "domain = Domain([subdomain0])"
   ]
  },
  {
   "cell_type": "code",
   "execution_count": 4,
   "metadata": {},
   "outputs": [
    {
     "name": "stdout",
     "output_type": "stream",
     "text": [
      "(490, 2)\n"
     ]
    }
   ],
   "source": [
    "domain.create_boundary(100)\n",
    "domain.create_interior(500, [0, 0], [2.2, 0.41])"
   ]
  },
  {
   "cell_type": "code",
   "execution_count": 5,
   "metadata": {},
   "outputs": [
    {
     "data": {
      "text/plain": [
       "<Figure size 640x480 with 1 Axes>"
      ]
     },
     "metadata": {},
     "output_type": "display_data"
    }
   ],
   "source": [
    "import matplotlib.pyplot as plt\n",
    "\n",
    "plt.axis(\"equal\")\n",
    "# tight layout\n",
    "plt.tight_layout()\n",
    "\n",
    "domain.plot()"
   ]
  },
  {
   "cell_type": "code",
   "execution_count": 6,
   "metadata": {},
   "outputs": [],
   "source": [
    "from utils import data_path\n",
    "\n",
    "domain.write_to_file(data_path / \"navier_stokes_pinn_train.json\")"
   ]
  },
  {
   "cell_type": "markdown",
   "metadata": {},
   "source": [
    "We need to add temporal dimention to data. As the code for generating 2d data is very\n",
    "object oriented I suggest we do this manually with uglier ux"
   ]
  },
  {
   "cell_type": "code",
   "execution_count": 9,
   "metadata": {},
   "outputs": [],
   "source": [
    "def add_temporal_dimension_training_data(input_file, t_max = 10, overwrite=False):\n",
    "    str_rep = str(input_file)\n",
    "    wo_suff = str_rep.removesuffix(\".json\")\n",
    "    if overwrite:\n",
    "        outfile = input_file\n",
    "    else: \n",
    "        outfile = f\"{wo_suff}_w_temporal.json\"\n",
    "    with open(input_file, \"r\") as infile:\n",
    "        data = json.load(infile)\n",
    "        for p in data['XPINNs']:\n",
    "            for point in p['Internal points']:\n",
    "                point.append(float(onp.random.uniform(0, t_max)))\n",
    "            for point in p['Boundary points']:\n",
    "                point.append(float(onp.random.uniform(0, t_max)))       \n",
    "        for s in data['Interfaces']:\n",
    "            for point in s['Points']:\n",
    "                point.append(float(onp.random.uniform(0, t_max)))\n",
    "                \n",
    "    with open(outfile, \"w\") as outfile:\n",
    "        json.dump(data, outfile)"
   ]
  },
  {
   "cell_type": "markdown",
   "metadata": {},
   "source": [
    "Sanity check on XPINN_template"
   ]
  },
  {
   "cell_type": "code",
   "execution_count": 10,
   "metadata": {},
   "outputs": [
    {
     "name": "stdout",
     "output_type": "stream",
     "text": [
      "{'XPINNs': [{'Internal points': [[0.5, 0.5, 6.342741864975441], [0.7, 0.6, 3.468210861550821], [0.8, 0.9, 1.733151311024712]], 'Boundary points': [[0, 0, 5.452269869495893], [1, 0, 9.174747722751539], [0.5, 0, 4.016298403190542]]}, {'Internal points': [[0.5, 1.5, 1.7033310330683915], [0.7, 1.6, 0.5215461558532319], [0.8, 1.9, 1.328728013191155]], 'Boundary points': [[1, 2, 1.2739320334648963], [1.5, 2, 2.9309486187827485], [0.5, 2, 9.579505803970553]]}], 'Interfaces': [{'XPINNs': [0, 1], 'Points': [[1, 1, 7.6130480763755966], [0.2, 1, 1.5678951644473793], [1.5, 1, 7.33756465088485]]}]}\n"
     ]
    }
   ],
   "source": [
    "file = data_path / \"XPINN_template.json\"\n",
    "add_temporal_dimension_training_data(file)\n",
    "\n",
    "outfile = data_path / \"XPINN_template_w_temporal.json\"\n",
    "with open(outfile, \"r\") as infile:\n",
    "        data = json.load(infile)\n",
    "        print(data)"
   ]
  },
  {
   "cell_type": "code",
   "execution_count": 11,
   "metadata": {},
   "outputs": [],
   "source": [
    "file = data_path / \"navier_stokes_pinn_train.json\"\n",
    "add_temporal_dimension_training_data(file, overwrite=True)"
   ]
  },
  {
   "cell_type": "markdown",
   "metadata": {},
   "source": [
    "Let's attempt to sort the different boundaries"
   ]
  },
  {
   "cell_type": "code",
   "execution_count": 14,
   "metadata": {},
   "outputs": [],
   "source": [
    "def sort_boundaries(input_file, overwrite=False):\n",
    "    \"\"\"Sorts the boundary points in the json file and adds the \n",
    "        indices of the different boundaries to the dictionary.\n",
    "        We have three different boundaries, left, wall and right.\n",
    "\n",
    "    Args:\n",
    "        input_file (Path): The path to the json file.\n",
    "        overwrite (bool, optional): Overwrites if true. Defaults to False.\n",
    "    \"\"\"\n",
    "    str_rep = str(input_file)\n",
    "    wo_suff = str_rep.removesuffix(\".json\")\n",
    "    if overwrite:\n",
    "        outfile = input_file\n",
    "    else:\n",
    "        outfile = f\"{wo_suff}_sorted.json\"\n",
    "    with open(input_file, \"r\") as infile:\n",
    "        data = json.load(infile)\n",
    "        #create buckets for the different boundaries\n",
    "        left_boundary = []\n",
    "        wall_boundary = []\n",
    "        right_boundary = []\n",
    "        for p in data['XPINNs']:\n",
    "            for point in p['Boundary points']:\n",
    "                if point[0] == 0:\n",
    "                    left_boundary.append(point)    \n",
    "                if point[0] == 2.2:\n",
    "                    right_boundary.append(point)\n",
    "                else:\n",
    "                    wall_boundary.append(point)\n",
    "                    \n",
    "            #now we combine the buckets and note the indecies of the different boundaries\n",
    "            all_boundaries = left_boundary + wall_boundary + right_boundary\n",
    "            left_boundary_index = len(left_boundary)\n",
    "            wall_boundary_index = left_boundary_index + len(wall_boundary)\n",
    "            right_boundary_index = wall_boundary_index + len(right_boundary)\n",
    "    \n",
    "           \n",
    "            p['Boundary points'] = all_boundaries\n",
    "            p['left boundary'] = left_boundary\n",
    "            p['wall boundary'] = wall_boundary\n",
    "            p['right boundary'] = right_boundary\n",
    "            p['Boundary indices'] = [left_boundary_index, wall_boundary_index, right_boundary_index]\n",
    "            \n",
    "    \n",
    "    with open(outfile, \"w\") as outfile:\n",
    "        json.dump(data, outfile)"
   ]
  },
  {
   "cell_type": "code",
   "execution_count": 11,
   "metadata": {},
   "outputs": [],
   "source": [
    "file = data_path / \"navier_stokes_pinn_train.json\"\n",
    "sort_boundaries(file, overwrite=True)"
   ]
  },
  {
   "cell_type": "markdown",
   "metadata": {},
   "source": [
    "#### Test data\n",
    "\n",
    "We would like to animate our solution so we generate random points in the xy plane, duplicate them and add a temporal dimention. (Not sure what resolution is sufficient)"
   ]
  },
  {
   "cell_type": "code",
   "execution_count": 12,
   "metadata": {},
   "outputs": [],
   "source": [
    "domain.create_testing_data(20, v1, v3)\n",
    "domain.write_to_file(data_path / \"navier_stokes_pinn_test.json\", False)"
   ]
  },
  {
   "cell_type": "code",
   "execution_count": 13,
   "metadata": {},
   "outputs": [
    {
     "data": {
      "image/png": "[encoded data removed]",
      "text/plain": [
       "<Figure size 640x480 with 1 Axes>"
      ]
     },
     "metadata": {},
     "output_type": "display_data"
    }
   ],
   "source": [
    "domain.plot(False)"
   ]
  },
  {
   "cell_type": "code",
   "execution_count": 16,
   "metadata": {},
   "outputs": [],
   "source": [
    "def add_temporal_dimension_test_data(input_file, n:int = 2, t_max = 10, overwrite=False):\n",
    "    \"\"\"Adds temporal dimention to data\n",
    "\n",
    "    Args:\n",
    "        input_file (str): .json file with data w/o temporal dimension\n",
    "        n (int, optional): temporal resolution. Defaults to 100.\n",
    "        overwrite (bool, optional): overwrites infile if true. Defaults to False.\n",
    "    \"\"\"\n",
    "    t = np.linspace(0, t_max, n)\n",
    "    str_rep = str(input_file)\n",
    "    wo_suff = str_rep.removesuffix(\".json\")\n",
    "    if overwrite:\n",
    "        outfile = input_file\n",
    "    else:\n",
    "        outfile = f\"{wo_suff}_test_w_temporal.json\"\n",
    "    with open(input_file, \"r\") as infile:\n",
    "        data = json.load(infile)\n",
    "        for p in data['XPINNs']:\n",
    "            m = len(p['Internal points'])\n",
    "            k = len(p['Boundary points'])\n",
    "            p['Internal points'] = n*p['Internal points']\n",
    "            p['Boundary points'] = n*p['Boundary points']\n",
    "            for i in range(n-1):\n",
    "                for point in p['Internal points'][i*m:m*(i+1)]:\n",
    "                    point.append(float(t[i]))\n",
    "                for point in p['Boundary points'][i*k:k*(i+1)]:\n",
    "                    point.append(float(t[i]))\n",
    "    with open(outfile, \"w\") as outfile:\n",
    "        json.dump(data, outfile)"
   ]
  },
  {
   "cell_type": "markdown",
   "metadata": {},
   "source": [
    "Sanity check on template."
   ]
  },
  {
   "cell_type": "code",
   "execution_count": 17,
   "metadata": {},
   "outputs": [
    {
     "name": "stdout",
     "output_type": "stream",
     "text": [
      "{'XPINNs': [{'Internal points': [[0.5, 0.5, 0.0], [0.7, 0.6, 0.0], [0.8, 0.9, 0.0], [0.5, 0.5, 0.0], [0.7, 0.6, 0.0], [0.8, 0.9, 0.0]], 'Boundary points': [[0, 0, 0.0], [1, 0, 0.0], [0.5, 0, 0.0], [0, 0, 0.0], [1, 0, 0.0], [0.5, 0, 0.0]]}, {'Internal points': [[0.5, 1.5, 0.0], [0.7, 1.6, 0.0], [0.8, 1.9, 0.0], [0.5, 1.5, 0.0], [0.7, 1.6, 0.0], [0.8, 1.9, 0.0]], 'Boundary points': [[1, 2, 0.0], [1.5, 2, 0.0], [0.5, 2, 0.0], [1, 2, 0.0], [1.5, 2, 0.0], [0.5, 2, 0.0]]}], 'Interfaces': [{'XPINNs': [0, 1], 'Points': [[1, 1], [0.2, 1], [1.5, 1]]}]}\n"
     ]
    }
   ],
   "source": [
    "file = data_path / \"XPINN_template.json\"\n",
    "add_temporal_dimension_test_data(file, n=2, t_max=3)\n",
    "\n",
    "outfile = data_path / \"XPINN_template_test_w_temporal.json\"\n",
    "with open(outfile, \"r\") as infile:\n",
    "       data = json.load(infile)\n",
    "       print(data)"
   ]
  },
  {
   "cell_type": "code",
   "execution_count": 18,
   "metadata": {},
   "outputs": [],
   "source": [
    "add_temporal_dimension_test_data(data_path / \"navier_stokes_test.json\", n=10, t_max=3, overwrite=True)"
   ]
  },
  {
   "cell_type": "code",
   "execution_count": null,
   "metadata": {},
   "outputs": [],
   "source": []
  }
 ],
 "metadata": {
  "kernelspec": {
   "display_name": "Python 3 (ipykernel)",
   "language": "python",
   "name": "python3"
  },
  "language_info": {
   "codemirror_mode": {
    "name": "ipython",
    "version": 3
   },
   "file_extension": ".py",
   "mimetype": "text/x-python",
   "name": "python",
   "nbconvert_exporter": "python",
   "pygments_lexer": "ipython3",
   "version": "3.12.1"
  }
 },
 "nbformat": 4,
 "nbformat_minor": 4
}
