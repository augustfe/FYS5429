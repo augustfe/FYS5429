{
 "cells": [
  {
   "cell_type": "code",
   "execution_count": 40,
   "metadata": {},
   "outputs": [],
   "source": [
    "from jax import hessian, jit, vmap, grad, jacobian, value_and_grad\n",
    "import jax.numpy as np"
   ]
  },
  {
   "cell_type": "code",
   "execution_count": 46,
   "metadata": {},
   "outputs": [],
   "source": [
    "def dummy_model(params, xy):\n",
    "    result1 = np.sum(params * xy[1]*xy[0]**4) + np.sum(params * xy[0]*xy[1]**5)\n",
    "    result2 = np.square(xy[1]**5) + np.square(xy[0]**10) * params\n",
    "    return np.array([result1, result2])\n",
    "                \n",
    "psi = lambda params, xy: dummy_model(params, xy)[0]\n",
    "\n",
    "process_hessian = lambda hess: np.array([[-hess[1, 1], hess[1, 0]], [hess[1, 0], -hess[0, 0]]])\n",
    "\n",
    "hess_psi = hessian(psi, argnums=1)\n",
    "d_psi_dxy = grad(psi, argnums=1)\n",
    "\n",
    "advection_term = lambda params, xy: process_hessian(hess_psi(params, xy)) @ d_psi_dxy(params, xy)\n",
    "\n",
    "grad_hess_psi = jacobian(hess_psi, argnums=1)\n",
    "u_x = lambda params, xy: hess_psi(params, xy)[0,1] #psi_yx\n",
    "u_y = lambda params, xy: hess_psi(params, xy)[1,1] #psi_yy\n",
    "\n",
    "\n",
    "u_xx = lambda params, xy: grad(u_x, argnums=1)(params, xy)[0] #psi_yxx\n",
    "u_yy = lambda params, xy: grad(u_y, argnums=1)(params, xy)[1] #psi_yyy\n",
    "\n",
    "#we can be cheecky with by using value_and_grad\n",
    "\n",
    "v_y = lambda params, xy: -u_x(params, xy) #-psi_xy=-psi_yx\n",
    "v_x = lambda params, xy: -hess_psi(params, xy)[0,0] #-psi_xx\n",
    "\n",
    "process_gradient = lambda gradient: np.array((gradient[0], gradient[1][0]))\n",
    "#-psi_xx and -psi_xxy = -psi_yxx = u_xx\n",
    "v_xANDu_xx = lambda params, xy: process_gradient(value_and_grad(v_x, argnums=1)(params, xy))\n",
    "\n",
    "\n",
    "\n"
   ]
  },
  {
   "cell_type": "code",
   "execution_count": 53,
   "metadata": {},
   "outputs": [
    {
     "name": "stdout",
     "output_type": "stream",
     "text": [
      "24.0\n"
     ]
    }
   ],
   "source": [
    "# Test the advection_term function\n",
    "params = np.array(1., dtype=np.float32)\n",
    "xy = np.array([1., 1.], dtype=np.float32)\n",
    "\n",
    "v_xANDu_xx_result = v_xANDu_xx(params, xy)\n",
    "result_model = dummy_model(params, xy)\n",
    "\n",
    "#result_psi = psi(params, xy)\n",
    "result_hess = hess_psi(params, xy)\n",
    "\n",
    "result_adv = advection_term(params, xy)\n",
    "grad_hess_psi_result = grad_hess_psi(params, xy)\n",
    "\n",
    "#print(v_xANDu_xx_result)\n",
    "print(grad_hess_psi_result[0,0,0])"
   ]
  },
  {
   "cell_type": "code",
   "execution_count": 2,
   "metadata": {},
   "outputs": [],
   "source": [
    "import numpy as np\n",
    "n = 1\n",
    "for i in range(n-1):\n",
    "    print(\"jippi\")"
   ]
  }
 ],
 "metadata": {
  "kernelspec": {
   "display_name": "FYS5429",
   "language": "python",
   "name": "python3"
  },
  "language_info": {
   "codemirror_mode": {
    "name": "ipython",
    "version": 3
   },
   "file_extension": ".py",
   "mimetype": "text/x-python",
   "name": "python",
   "nbconvert_exporter": "python",
   "pygments_lexer": "ipython3",
   "version": "3.11.8"
  }
 },
 "nbformat": 4,
 "nbformat_minor": 2
}
