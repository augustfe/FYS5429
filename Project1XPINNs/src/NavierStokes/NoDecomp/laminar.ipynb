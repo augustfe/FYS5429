{
 "cells": [
  {
   "cell_type": "markdown",
   "metadata": {},
   "source": [
    "Emulating the [DFG benchmark 2D-1, Re=20](https://wwwold.mathematik.tu-dortmund.de/~featflow/en/benchmarks/cfdbenchmarking/flow/dfg_benchmark1_re20.html)\n",
    "laminar flow (no time dependency) using a single PINN (no domain decomposition)\n",
    "\n",
    "This notebook contains code for initializing the XPINN, explaining the problem specifications from [DFG benchmark 2D-1](https://wwwold.mathematik.tu-dortmund.de/~featflow/en/benchmarks/cfdbenchmarking/flow/dfg_benchmark1_re20.html), setting up the network architecture, defining the pde residual functions, specifying the boundary conditions and training the network"
   ]
  },
  {
   "cell_type": "markdown",
   "metadata": {},
   "source": [
    "#### Initalizing the XPINN\n",
    "\n",
    "The structure of our train .json data tells XPINN that there is no domain decomposition"
   ]
  },
  {
   "cell_type": "code",
   "execution_count": 2,
   "metadata": {},
   "outputs": [],
   "source": [
    "from xpinn import XPINN\n",
    "import jax.numpy as np\n",
    "from utils import data_path\n",
    "\n",
    "data_path = data_path / \"NavierStokes\"\n",
    "\n",
    "n_interior = 3000\n",
    "n_boundary = 500\n",
    "\n",
    "file_train = data_path / f\"single_pinn_train_{n_interior}_{n_boundary}.json\"\n",
    "file_test = data_path / \"test.json\"\n",
    "activation = np.tanh\n",
    "xpinn = XPINN(file_train, activation)"
   ]
  },
  {
   "cell_type": "code",
   "execution_count": 3,
   "metadata": {},
   "outputs": [
    {
     "data": {
      "text/plain": [
       "<matplotlib.legend.Legend at 0x28f817110>"
      ]
     },
     "execution_count": 3,
     "metadata": {},
     "output_type": "execute_result"
    },
    {
     "data": {
      "image/png": "[encoded data removed]",
      "text/plain": [
       "<Figure size 640x480 with 1 Axes>"
      ]
     },
     "metadata": {},
     "output_type": "display_data"
    }
   ],
   "source": [
    "%matplotlib inline\n",
    "import matplotlib.pyplot as plt\n",
    "\n",
    "plt.axis(\"equal\"\n",
    ")\n",
    "for i, pinn in enumerate(xpinn.PINNs):\n",
    "    checkout = pinn.interior\n",
    "    plt.scatter(checkout[:, 0], checkout[:, 1], label=f\"index {i}\")\n",
    "    plt.scatter(pinn.boundary[:, 0], pinn.boundary[:, 1], label=f\"boundary {i}\")\n",
    "\n",
    "for interface in xpinn.Interfaces:\n",
    "    a, b = interface.indices\n",
    "    p = interface.points\n",
    "    plt.scatter(p[:, 0], p[:, 1], label=f\"interface {a}-{b}\")\n",
    "\n",
    "plt.legend()"
   ]
  },
  {
   "cell_type": "markdown",
   "metadata": {},
   "source": [
    "# Problem specifications\n",
    "\n",
    "We attempt to replicate the laminar cylinder-wake navier stokes benchmark from [DFG benchmark 2D-1](https://wwwold.mathematik.tu-dortmund.de/~featflow/en/benchmarks/cfdbenchmarking/flow/dfg_benchmark1_re20.html). The incompressible liquid flows from left to right, hitting the cylinder on its way. In the dortmund article they have used U to denote vector for the fluid flow velocity, in this code however we found it convenient to isolate the x- and y-flow which is denoted respectively as u and v throughout\n",
    "\n",
    "### The interior PDE constraints\n",
    "In the DFG benchmark 2D-1, the PDE conditions are given by the Navier-Stokes equations:\n",
    "\n",
    "$$-\\nu \\nabla^2 \\mathbf{u} + (\\mathbf{u} \\cdot \\nabla)\\mathbf{u} + \\nabla p = \\mathbf{0}, \\hspace{3mm} \\nabla \\cdot \\mathbf{u} = 0$$\n",
    "\n",
    "$\\nu = 0.001$.\n",
    "In our notation, which isolates the x- and y-flow as $u$ and $v$, the PDE expressions for the second-order spatial derivatives can be written as:\n",
    "\n",
    "$$-\\nu (u_{xx} + u_{yy}) + u u_x + v u_y + p_x = 0,$$\n",
    "\n",
    "$$-\\nu (v_{xx} + v_{yy}) + u v_x + v v_y + p_y = 0$$\n",
    "\n",
    "Our zero divergence from incompressibility:\n",
    "\n",
    "$$ u_x + v_y = 0$$\n",
    "\n",
    "Let's denote our PDE in the x and y direction as f and g\n",
    "\n",
    "\n",
    "$$ f = -\\nu (u_{xx} + u_{yy}) + u u_x + v u_y + p_x = 0,$$\n",
    "\n",
    "$$g = -\\nu (v_{xx} + v_{yy}) + u v_x + v v_y + p_y = 0$$\n"
   ]
  },
  {
   "cell_type": "markdown",
   "metadata": {},
   "source": [
    "In order to impose the zero divergence we let our network  ($\\mathcal{N}_{\\theta}$)  predict the stream function $\\psi$ and the pressure $p$.\n",
    "\n",
    "$$\\mathcal{N}_{\\theta}:\\mathbb{R}^2 \\to \\mathbb{R}^2, \\hspace{4mm}(x,y) \\to (\\psi, p)$$\n",
    "\n",
    "Then $u$ and $v$ is given by\n",
    "\n",
    "$$ u = \\psi_y,  \\hspace{4mm} v = -\\psi_x$$\n"
   ]
  },
  {
   "cell_type": "markdown",
   "metadata": {},
   "source": [
    "To see how we could implement these derivatives it's nice to have all of them with respect to $\\psi$\n",
    "\n",
    "$$\n",
    "f = - \\nu \\left(\\psi_{yxx} + \\psi_{yyy} \\right) + \\psi_y \\psi_{yx} - \\psi_{x}\\psi_{yy} + p_x\n",
    "$$\n",
    "\n",
    "$$\n",
    "g = -\\nu \\left(-\\psi_{xxx} -\\psi_{xyy} \\right) - \\psi_y \\psi_{xx} +  \\psi_{x} \\psi_{xy} + p_y \n",
    "\n",
    "$$\n",
    "\n",
    "The second order terms are all in the hessian of $\\psi$, so let's have a look at the advection term\n",
    "\n",
    "$$\n",
    "\\psi_y \\psi_{yx} - \\psi_{x}\\psi_{yy}\n",
    "$$\n",
    "$$\n",
    "- \\psi_y \\psi_{xx} +  \\psi_{x} \\psi_{xy}\n",
    "$$\n",
    "\n",
    "In vector notation this is\n",
    "\n",
    "$$\n",
    " \\begin{bmatrix} -\\psi_{yy} & \\psi_{yx} \\\\ \\psi_{xy} & -\\psi_{xx} \\ \\end{bmatrix}  \\begin{bmatrix} \\psi_{x} \\\\  \\psi_{y} \\ \\end{bmatrix} \n",
    "$$\n",
    "\n",
    "As a reminder the hessian of $\\psi$ is\n",
    "\n",
    "$$\n",
    "\\begin{bmatrix}\n",
    "\\psi_{xx} & \\psi_{xy} \\\\\n",
    "\\psi_{yx} & \\psi_{yy} \n",
    "\\end{bmatrix}\n",
    "$$\n",
    "\n",
    "So the left matrix of our convection term is almost the hessian, we just need to swap the rows\n",
    "and negate the diagonal elements. Lets initialize a network such that we have something to take derivatives with respect to \n"
   ]
  },
  {
   "cell_type": "code",
   "execution_count": 4,
   "metadata": {},
   "outputs": [],
   "source": [
    "from typing import Callable\n",
    "from type_util import Params, Array\n",
    "from base_network import neural_network\n",
    "from jax import hessian, jit, vmap, grad, jacobian\n",
    "import jax.numpy as np\n",
    "\n",
    "LFunc = Callable[[Params, dict[str, Array]], Array]\n",
    "\n",
    "model = neural_network(activation)\n",
    "v_model = vmap(model, (None, 0))\n"
   ]
  },
  {
   "cell_type": "markdown",
   "metadata": {},
   "source": [
    "#### The advection term"
   ]
  },
  {
   "cell_type": "code",
   "execution_count": 9,
   "metadata": {},
   "outputs": [],
   "source": [
    "psi = lambda params, xy: model(params, xy)[0]\n",
    "\n",
    "hess_psi = hessian(psi, argnums=1)\n",
    "d_psi_dxy = grad(psi, argnums=1)\n",
    "\n",
    "def advection_term(params: Params, xy: Array) -> Array:\n",
    "    hess = hess_psi(params, xy)\n",
    "    processed_hess = np.array([[-hess[1, 1], hess[1, 0]], [hess[1, 0], -hess[0, 0]]])\n",
    "    return processed_hess @ d_psi_dxy(params, xy)\n",
    "\n"
   ]
  },
  {
   "cell_type": "markdown",
   "metadata": {},
   "source": [
    "#### The Diffusion terms of f an g are\n",
    "\n",
    "$$\n",
    "- \\nu \\left(\\psi_{yxx} + \\psi_{yyy} \\right)\n",
    "$$\n",
    "\n",
    "$$\n",
    " -\\nu \\left(-\\psi_{xxx} -\\psi_{xyy} \\right) \n",
    "$$"
   ]
  },
  {
   "cell_type": "markdown",
   "metadata": {},
   "source": [
    "\n",
    "The jacobian of the hessian includes these terms\n",
    "$$\n",
    "\\begin{bmatrix} \n",
    "    \\begin{bmatrix} \n",
    "        \\psi_{xxx} & \\psi_{xyx} \\\\  \n",
    "        \\psi_{yxx} & \\psi_{yyx}\n",
    "    \\end{bmatrix} \\\\[1em] \n",
    "    \\begin{bmatrix}  \n",
    "        \\psi_{xxy} & \\psi_{xyy} \\\\  \n",
    "        \\psi_{yxy} & \\psi_{yyy} \n",
    "    \\end{bmatrix} \n",
    "\\end{bmatrix} \n",
    "$$"
   ]
  },
  {
   "cell_type": "code",
   "execution_count": 10,
   "metadata": {},
   "outputs": [],
   "source": [
    "jacobi_hess_psi = jacobian(hess_psi, argnums=1)\n",
    "\n",
    "def diffusion_term(params: Params, xy: Array):\n",
    "    jachessi = jacobi_hess_psi(params, xy)\n",
    "    u_diffusion = jachessi[0,1,0] + jachessi[1,1,1] #psi_yxx + psi_yyy\n",
    "    v_diffusion = jachessi[1,0,1] + jachessi[0,0,0] #psi_xyy + psi_xxx\n",
    "    return np.array([u_diffusion, -v_diffusion])\n"
   ]
  },
  {
   "cell_type": "markdown",
   "metadata": {},
   "source": [
    "#### Derivatives of p"
   ]
  },
  {
   "cell_type": "code",
   "execution_count": 11,
   "metadata": {},
   "outputs": [],
   "source": [
    "p = lambda params, xy: model(params, xy)[1]\n",
    "\n",
    "d_p = grad(p, argnums=1)"
   ]
  },
  {
   "cell_type": "markdown",
   "metadata": {},
   "source": [
    "#### Residual Factory "
   ]
  },
  {
   "cell_type": "code",
   "execution_count": 12,
   "metadata": {},
   "outputs": [],
   "source": [
    "def navier_stokes_residual_factory(index: int, nu:float) -> LFunc:\n",
    "\n",
    "    def residual(params, xy):\n",
    "        return np.sum(np.square(advection_term(params, xy) - nu* diffusion_term(params, xy) + d_p(params, xy)))\n",
    "\n",
    "    v_residual = jit(vmap(residual, (None, 0)))\n",
    "    xpinn.PINNs[index].v_residual = v_residual\n",
    "    \n",
    "    def interior_loss(params: Params, points: dict[str, Array]) -> Array:\n",
    "        pts = points[\"interior\"]\n",
    "        return np.mean(v_residual(params, pts))\n",
    "    \n",
    "    \n",
    "    return interior_loss"
   ]
  },
  {
   "cell_type": "markdown",
   "metadata": {},
   "source": [
    "### Boundary conditions\n",
    "\n",
    "#### Wall boundary conditions\n",
    "There are three 'walls' in our domain, the top and bottom walls and the cylinder. On these walls, we have the so called noslip conditions. That is there is no flow parallel to the boundary exactly on the boundary. The walls are also impermeable, thus the flow velocity is exactly zero on these walls. In the [DFG benchmark 2D-1](https://wwwold.mathematik.tu-dortmund.de/~featflow/en/benchmarks/cfdbenchmarking/flow/dfg_benchmark1_re20.html) this is notated as. \n",
    "\n",
    "\n",
    "\"\"\n",
    "\n",
    "\n",
    "For the lower and upper walls $\\Gamma_1=[0,2.2]\\times0$ and $\\Gamma_2=[0,2.2]\\times0.41$, as well as the boundary $S=\\partial B_r(0.2,0.2)$, no-slip boundary conditions are defined:\n",
    "\n",
    "$$u_{|{\\Gamma_1}} = u_{|{\\Gamma_3}} = u_{|_S} = \\boldsymbol{0}$$\n",
    "\n",
    "\"\"\n",
    "\n",
    "Using our notation we get\n",
    "\n",
    "$$u_{|{\\Gamma_1}} = u_{|{\\Gamma_3}} = u_{|_S} = 0$$\n",
    "$$v_{|{\\Gamma_1}} = v_{|{\\Gamma_3}} = v_{|_S} = 0$$\n",
    "\n",
    "\n",
    "#### Left boundary\n",
    "\n",
    "On the left bondary we have a polynomial inflow\n",
    "\n",
    "$$u = \\frac{4U y(0.41-y)}{0.41^2}$$\n",
    "$$v = 0$$\n",
    "\n",
    "$U = 0.3$ \n",
    "\n",
    "#### Right boundary \n",
    "\n",
    "On the right boundary we have the do-nothing boundary condition. [DFG benchmark 2D-1](https://wwwold.mathematik.tu-dortmund.de/~featflow/en/benchmarks/cfdbenchmarking/flow/dfg_benchmark1_re20.html) denotes this as\n",
    "\n",
    "$$\\nu\\partial_{\\eta} u - p\\eta = 0$$\n",
    "\n",
    "where $\\eta$ denotes the unit normal vector to the boundary, which is just $(1,0)$. In our notation this is rather simple\n",
    "\n",
    "$$\n",
    "\\nu u_x  - p = 0 \n",
    "$$\n",
    "\n",
    "$$\n",
    "\\nu u_y  = 0 \n",
    "$$\n"
   ]
  },
  {
   "cell_type": "markdown",
   "metadata": {},
   "source": [
    "#### Inflow "
   ]
  },
  {
   "cell_type": "code",
   "execution_count": 13,
   "metadata": {},
   "outputs": [
    {
     "data": {
      "text/plain": [
       "[<matplotlib.lines.Line2D at 0x28f832e40>]"
      ]
     },
     "execution_count": 13,
     "metadata": {},
     "output_type": "execute_result"
    },
    {
     "data": {
      "image/png": "[encoded data removed]",
      "text/plain": [
       "<Figure size 640x480 with 1 Axes>"
      ]
     },
     "metadata": {},
     "output_type": "display_data"
    }
   ],
   "source": [
    "inflow_func_1d = lambda x: 4*0.3*x*(0.41-x)/0.41**2\n",
    "x = np.linspace(0, 0.41, 100)\n",
    "plt.plot(x, inflow_func_1d(x))"
   ]
  },
  {
   "cell_type": "code",
   "execution_count": 14,
   "metadata": {},
   "outputs": [],
   "source": [
    "U = 0.3\n",
    "\n",
    "inflow_func = lambda xy: np.array((4 * U * xy[1] * (0.41 - xy[1])/(0.41**2), 0.0))\n"
   ]
  },
  {
   "cell_type": "markdown",
   "metadata": {},
   "source": [
    "#### Boundary loss factory"
   ]
  },
  {
   "cell_type": "code",
   "execution_count": 15,
   "metadata": {},
   "outputs": [],
   "source": [
    "from typing import Tuple\n",
    "\n",
    "def uv(params: Params, xy: Array) -> Array:\n",
    "    d_psi = d_psi_dxy(params, xy)\n",
    "    return np.array([d_psi[1], -d_psi[0]])\n",
    "\n",
    "def boundary_loss_factory(inflow_func: Callable[[Array], Array], nu:float, weights:Tuple[int, int, int, int]= (1,1,1,1)) -> LFunc:\n",
    "    \n",
    "    def left_boundary_loss(params, xy):\n",
    "        return np.sum(np.square(uv(params, xy) - inflow_func(xy))) #(u - inflow)**2 + v**2\n",
    "    \n",
    "    def wall_boundary_loss(params, xy):\n",
    "        return np.sum(np.square(uv(params, xy))) #return u**2 + v**2\n",
    "        \n",
    "    def right_boundary_loss(params, xy):\n",
    "        return np.sum(np.square(nu*hess_psi(params, xy)[:,1] - np.array((p(params,xy), 0)))) # (nu*u_x-p)**2 + (nu*u_y)**2\n",
    "    \n",
    "    v_left_boundary_loss = vmap(left_boundary_loss, (None, 0))\n",
    "    v_wall_boundary_loss = vmap(wall_boundary_loss, (None, 0))\n",
    "    v_right_boundary_loss = vmap(right_boundary_loss, (None, 0))\n",
    "    \n",
    "    def boundary_loss(params: Params, points: dict[str, Array]) -> Array:\n",
    "\n",
    "        left_pts = points['left boundary']\n",
    "        right_pts = points['right boundary']\n",
    "        wall_pts = points['wall boundary']\n",
    "        cylinder_pts = points['cylinder boundary']\n",
    "       \n",
    "        left = v_left_boundary_loss(params, left_pts)\n",
    "        right = v_right_boundary_loss(params, right_pts)\n",
    "        wall = v_wall_boundary_loss(params, wall_pts)\n",
    "        cylinder = v_wall_boundary_loss(params, cylinder_pts)\n",
    "    \n",
    "        all = np.sum(np.array((np.mean(left)*weights[0], np.mean(wall)*weights[1], np.mean(right)*weights[2], np.mean(cylinder)*weights[3])))\n",
    "        return all\n",
    "    \n",
    "    return boundary_loss\n",
    "    "
   ]
  },
  {
   "cell_type": "code",
   "execution_count": 17,
   "metadata": {},
   "outputs": [
    {
     "data": {
      "text/plain": [
       "<PjitFunction of <function PINN.create_loss.<locals>.loss at 0x168633d80>>"
      ]
     },
     "execution_count": 17,
     "metadata": {},
     "output_type": "execute_result"
    }
   ],
   "source": [
    "p0 = xpinn.PINNs[0]\n",
    "p0.boundary_loss = boundary_loss_factory(inflow_func, nu=0.001)\n",
    "p0.interior_loss = navier_stokes_residual_factory(0, nu=0.001)\n",
    "p0.create_loss()\n"
   ]
  },
  {
   "cell_type": "code",
   "execution_count": 13,
   "metadata": {},
   "outputs": [
    {
     "name": "stderr",
     "output_type": "stream",
     "text": [
      "/Users/junmiaohu/Documents/UiO/FYS5429/FYS5429/Project1XPINNs/src/base_network.py:24: UserWarning: Explicitly requested dtype <class 'jax.numpy.float64'>  is not available, and will be truncated to dtype float32. To enable more dtypes, set the jax_enable_x64 configuration option or the JAX_ENABLE_X64 shell environment variable. See https://github.com/google/jax#current-gotchas for more.\n",
      "  return scale * random.normal(\n",
      "/Users/junmiaohu/Documents/UiO/FYS5429/FYS5429/Project1XPINNs/src/base_network.py:26: UserWarning: Explicitly requested dtype <class 'jax.numpy.float64'>  is not available, and will be truncated to dtype float32. To enable more dtypes, set the jax_enable_x64 configuration option or the JAX_ENABLE_X64 shell environment variable. See https://github.com/google/jax#current-gotchas for more.\n",
      "  ), scale * random.normal(b_key, (n,), dtype=np.float64)\n"
     ]
    }
   ],
   "source": [
    "import optax\n",
    "\n",
    "shape = [2] + 8*[20] + [2]\n",
    "\n",
    "exponential_decay = optax.exponential_decay(\n",
    "    init_value=0.001,\n",
    "    transition_steps=10000,\n",
    "    transition_begin=15000,\n",
    "    decay_rate=0.1,\n",
    "    end_value=0.0000001\n",
    ")\n",
    "\n",
    "\n",
    "optimizer = optax.adam(learning_rate=exponential_decay)\n",
    "\n",
    "xpinn.PINNs[0].init_params(shape, optimizer)"
   ]
  },
  {
   "cell_type": "code",
   "execution_count": null,
   "metadata": {},
   "outputs": [],
   "source": [
    "n_iter = 20000\n",
    "#losses = xpinn.run_iters(20000)"
   ]
  },
  {
   "cell_type": "code",
   "execution_count": 19,
   "metadata": {},
   "outputs": [
    {
     "data": {
      "text/plain": [
       "Text(0.5, 1.0, 'Loss over 5000 epochs')"
      ]
     },
     "execution_count": 19,
     "metadata": {},
     "output_type": "execute_result"
    },
    {
     "data": {
      "image/png": "[encoded data removed]",
      "text/plain": [
       "<Figure size 640x480 with 1 Axes>"
      ]
     },
     "metadata": {},
     "output_type": "display_data"
    }
   ],
   "source": [
    "a_losses = losses\n",
    "t_0 = 0\n",
    "t_end = min(20000, n_iter)\n",
    "t = np.arange(t_0, t_end)\n",
    "\n",
    "plt.plot(t, a_losses[0, t_0:t_end])\n",
    "plt.xlabel(\"epoch\")\n",
    "plt.ylabel(\"loss\")\n",
    "plt.yscale(\"log\")\n",
    "plt.title(f\"Loss over {n_iter} epochs\")"
   ]
  }
 ],
 "metadata": {
  "kernelspec": {
   "display_name": "FYS5429",
   "language": "python",
   "name": "python3"
  },
  "language_info": {
   "codemirror_mode": {
    "name": "ipython",
    "version": 3
   },
   "file_extension": ".py",
   "mimetype": "text/x-python",
   "name": "python",
   "nbconvert_exporter": "python",
   "pygments_lexer": "ipython3",
   "version": "3.12.2"
  }
 },
 "nbformat": 4,
 "nbformat_minor": 2
}
