{
 "cells": [
  {
   "cell_type": "markdown",
   "metadata": {},
   "source": [
    "# Poisson Equation\n",
    "Adam optimization. \n",
    "Two dimensional homogenous Poisson equation for a single PINN on the unit square domain. \n",
    "$$\n",
    "\\begin{cases}\n",
    "    -u_{xx} - u_{yy} = 0 \\\\\n",
    "    u(0, y) = u(1, y) = u(x, 0) = 0 \\\\\n",
    "    u(x, 1) = \\sin(\\pi x)\n",
    "\\end{cases}\n",
    "$$\n",
    "\n",
    "The equation has analytical solution (MAT3360 SIUUU)\n",
    "$$\n",
    "\\begin{equation}\n",
    "    u(x,y) = \\sin(\\pi x) \\frac{\\sinh(k \\pi y)}{\\sinh(\\pi)}\n",
    "\\end{equation}\n",
    "$$\n",
    "$$$$"
   ]
  },
  {
   "cell_type": "code",
   "execution_count": null,
   "metadata": {},
   "outputs": [],
   "source": [
    "import jax\n",
    "import jax.numpy as jnp\n",
    "from jax import random, jit, vmap, grad\n",
    "import optax\n",
    "import numpy as np"
   ]
  }
 ],
 "metadata": {
  "language_info": {
   "name": "python"
  }
 },
 "nbformat": 4,
 "nbformat_minor": 2
}
