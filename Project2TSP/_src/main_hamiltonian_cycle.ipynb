{
 "cells": [
  {
   "cell_type": "code",
   "execution_count": 1,
   "metadata": {},
   "outputs": [],
   "source": [
    "from graph_utils import generate_graph, graph_to_jraph\n",
    "from gcn import GCN, TrainState\n",
    "import optax\n",
    "from hamiltonian_cycle import train, post_process\n",
    "import flax.linen as nn\n",
    "from plot_utils import draw_cycle\n",
    "import networkx as nx"
   ]
  },
  {
   "cell_type": "code",
   "execution_count": 2,
   "metadata": {},
   "outputs": [],
   "source": [
    "from typing import Any\n",
    "\n",
    "\n",
    "from jax._src.basearray import Array\n",
    "from networkx.classes.graph import Graph\n",
    "\n",
    "\n",
    "from _src.gcn import TrainState\n",
    "\n",
    "\n",
    "def run_model(\n",
    "    side_len: int,\n",
    "    n_epochs: int,\n",
    "    lr: float,\n",
    "    hidden_size: int,\n",
    "    num_convolutions: int = 2,\n",
    "    num_layers: int = 1,\n",
    "    patience: int = 250,\n",
    "    tol: float = 1e-3,\n",
    "    use_TSP: bool = False,\n",
    "    graph_type: str = \"chess\",\n",
    ") -> tuple[TrainState, Graph, dict[int, Array | Any]]:\n",
    "    nx_graph, pos = generate_graph(side_len * side_len, graph_type=graph_type)\n",
    "    jraph_graph = graph_to_jraph(nx_graph, pos)\n",
    "\n",
    "    n = nx_graph.number_of_nodes()\n",
    "\n",
    "    optimizer = optax.adam(learning_rate=lr)\n",
    "\n",
    "    net = GCN(\n",
    "        hidden_size,\n",
    "        n,\n",
    "        nn.leaky_relu,\n",
    "        output_activation=nn.softmax,\n",
    "        num_layers=num_layers,\n",
    "        dropout_rate=0.0,\n",
    "        num_convolutions=num_convolutions,\n",
    "    )\n",
    "\n",
    "    state, _ = train(\n",
    "        jraph_graph,\n",
    "        net,\n",
    "        optimizer,\n",
    "        n_epochs,\n",
    "        tol=tol,\n",
    "        patience=patience,\n",
    "        use_TSP=use_TSP,\n",
    "    )\n",
    "\n",
    "    return state, nx_graph, pos\n",
    "\n",
    "\n",
    "def evaluate_and_draw(state: TrainState, nx_graph: nx.Graph, pos: dict, side_len: int = 4, graph_type: str = \"chess\", use_TSP: bool = False, **kwargs) -> None:\n",
    "    jraph_graph = graph_to_jraph(nx_graph, pos)\n",
    "    pred_graph = state.apply_fn(state.params, jraph_graph, training=False)\n",
    "    pred_cycle = post_process(pred_graph.nodes)\n",
    "    save_name = f\"tsp_{side_len}_{graph_type}_{\"tsp\" if use_TSP else \"ham\"}\"\n",
    "    draw_cycle(\n",
    "        nx_graph,\n",
    "        pos,\n",
    "        pred_cycle,\n",
    "        rounding=True,\n",
    "        title=\"Predicted Cycle\",\n",
    "        save_name=save_name,\n",
    "    )\n",
    "\n",
    "\n",
    "def vary_grid_and_TSP(kwargs: dict) -> None:\n",
    "    for use_TSP in [False, True]:\n",
    "        for graph_type in [\"chess\", \"grid\"]:\n",
    "            kwargs[\"use_TSP\"] = use_TSP\n",
    "            kwargs[\"graph_type\"] = graph_type\n",
    "\n",
    "            state, nx_graph, pos = run_model(**kwargs)\n",
    "            evaluate_and_draw(state, nx_graph, pos, **kwargs)"
   ]
  },
  {
   "cell_type": "code",
   "execution_count": 3,
   "metadata": {},
   "outputs": [
    {
     "name": "stderr",
     "output_type": "stream",
     "text": [
      "Training:  27%|██▋       | 2729/10000 [00:03<00:08, 860.86epoch/s, loss=0.0008, patience=100.0%]\n"
     ]
    },
    {
     "name": "stdout",
     "output_type": "stream",
     "text": [
      "Early stopping at epoch 2751\n",
      "Final loss: 0.0008\n",
      "Best loss: 0.0008\n"
     ]
    }
   ],
   "source": [
    "kwargs = {\n",
    "    \"side_len\": 4,\n",
    "    \"n_epochs\": 10000,\n",
    "    \"lr\": 0.01,\n",
    "    \"hidden_size\": 32,\n",
    "    \"num_convolutions\": 1,\n",
    "    \"num_layers\": 1,\n",
    "    \"use_TSP\": False,\n",
    "    \"graph_type\": \"chess\",\n",
    "}\n",
    "\n",
    "vary_grid_and_TSP(kwargs)"
   ]
  },
  {
   "cell_type": "code",
   "execution_count": null,
   "metadata": {},
   "outputs": [],
   "source": [
    "kwargs[\"side_len\"] = 8\n",
    "vary_grid_and_TSP(kwargs)"
   ]
  },
  {
   "cell_type": "code",
   "execution_count": null,
   "metadata": {},
   "outputs": [],
   "source": []
  }
 ],
 "metadata": {
  "kernelspec": {
   "display_name": "TSP-graph",
   "language": "python",
   "name": "python3"
  },
  "language_info": {
   "codemirror_mode": {
    "name": "ipython",
    "version": 3
   },
   "file_extension": ".py",
   "mimetype": "text/x-python",
   "name": "python",
   "nbconvert_exporter": "python",
   "pygments_lexer": "ipython3",
   "version": "3.12.2"
  }
 },
 "nbformat": 4,
 "nbformat_minor": 2
}
